{
 "cells": [
  {
   "cell_type": "code",
   "execution_count": 1,
   "metadata": {},
   "outputs": [
    {
     "data": {
      "text/plain": [
       "True"
      ]
     },
     "execution_count": 1,
     "metadata": {},
     "output_type": "execute_result"
    }
   ],
   "source": [
    "import torch\n",
    "torch.cuda.is_available()"
   ]
  },
  {
   "cell_type": "code",
   "execution_count": 2,
   "metadata": {},
   "outputs": [],
   "source": [
    "import torch\n",
    "import torch.nn as nn\n",
    "import torch.nn.functional as F\n",
    "from torch.utils.data import Dataset, DataLoader\n",
    "from sklearn.model_selection import train_test_split\n",
    "\n",
    "import pandas as pd\n",
    "import matplotlib.pyplot as plt\n",
    "%matplotlib inline"
   ]
  },
  {
   "cell_type": "code",
   "execution_count": 3,
   "metadata": {},
   "outputs": [],
   "source": [
    "# define model for GPU\n",
    "class Model(nn.Module):\n",
    "    def __init__(self, in_features=4, h1=8, h2=9, out_features=3):\n",
    "        super().__init__()\n",
    "        self.fc1 = nn.Linear(in_features,h1)    # input layer\n",
    "        self.fc2 = nn.Linear(h1, h2)            # hidden layer\n",
    "        self.out = nn.Linear(h2, out_features)  # output layer\n",
    "        \n",
    "    def forward(self, x):\n",
    "        x = F.relu(self.fc1(x))\n",
    "        x = F.relu(self.fc2(x))\n",
    "        x = self.out(x)\n",
    "        return x"
   ]
  },
  {
   "cell_type": "code",
   "execution_count": 4,
   "metadata": {},
   "outputs": [],
   "source": [
    "# set random seed and instantiate model\n",
    "torch.manual_seed(32)\n",
    "model = Model()"
   ]
  },
  {
   "cell_type": "code",
   "execution_count": 5,
   "metadata": {},
   "outputs": [
    {
     "data": {
      "text/plain": [
       "False"
      ]
     },
     "execution_count": 5,
     "metadata": {},
     "output_type": "execute_result"
    }
   ],
   "source": [
    "# check if model is on cuda, should not be yet\n",
    "next(model.parameters()).is_cuda"
   ]
  },
  {
   "cell_type": "code",
   "execution_count": 6,
   "metadata": {},
   "outputs": [],
   "source": [
    "# make cuda model\n",
    "gpumodel = model.cuda()"
   ]
  },
  {
   "cell_type": "code",
   "execution_count": 7,
   "metadata": {},
   "outputs": [
    {
     "data": {
      "text/plain": [
       "True"
      ]
     },
     "execution_count": 7,
     "metadata": {},
     "output_type": "execute_result"
    }
   ],
   "source": [
    "# check if this model is on cuda, should be True\n",
    "next(gpumodel.parameters()).is_cuda"
   ]
  },
  {
   "cell_type": "code",
   "execution_count": 8,
   "metadata": {},
   "outputs": [],
   "source": [
    "# get iris dataset and perform train, test, split\n",
    "df = pd.read_csv(r'C:\\Users\\dearm\\OneDrive\\Documents\\PYTORCH_NOTEBOOKS\\Data\\iris.csv')\n",
    "X = df.drop('target',axis=1).values\n",
    "y = df['target'].values\n",
    "X_train, X_test, y_train, y_test = train_test_split(X,y,test_size=0.2,random_state=33)"
   ]
  },
  {
   "cell_type": "code",
   "execution_count": 9,
   "metadata": {},
   "outputs": [],
   "source": [
    "# convert tensors to cuda tensors\n",
    "X_train = torch.FloatTensor(X_train).cuda()\n",
    "X_test = torch.FloatTensor(X_test).cuda()\n",
    "y_train = torch.LongTensor(y_train).cuda()\n",
    "y_test = torch.LongTensor(y_test).cuda()"
   ]
  },
  {
   "cell_type": "code",
   "execution_count": 10,
   "metadata": {},
   "outputs": [],
   "source": [
    "# create train and test loaders\n",
    "trainloader = DataLoader(X_train, batch_size=60, shuffle=True, pin_memory=True)\n",
    "testloader = DataLoader(X_test, batch_size=60, shuffle=False, pin_memory=True)"
   ]
  },
  {
   "cell_type": "code",
   "execution_count": 11,
   "metadata": {},
   "outputs": [],
   "source": [
    "# define loss and optimizer functions\n",
    "criterion = nn.CrossEntropyLoss()\n",
    "optimizer = torch.optim.Adam(model.parameters(), lr=0.01)"
   ]
  },
  {
   "cell_type": "code",
   "execution_count": 12,
   "metadata": {},
   "outputs": [
    {
     "name": "stdout",
     "output_type": "stream",
     "text": [
      "epoch:  1  loss: 1.15071130\n",
      "epoch: 11  loss: 0.93773133\n",
      "epoch: 21  loss: 0.77982587\n",
      "epoch: 31  loss: 0.60993993\n",
      "epoch: 41  loss: 0.40079930\n",
      "epoch: 51  loss: 0.25436318\n",
      "epoch: 61  loss: 0.15053052\n",
      "epoch: 71  loss: 0.10086943\n",
      "epoch: 81  loss: 0.08128314\n",
      "epoch: 91  loss: 0.07231426\n",
      "TOTAL TRAINING TIME: 0.6518187522888184\n"
     ]
    }
   ],
   "source": [
    "# train the model!\n",
    "import time\n",
    "epochs = 100\n",
    "losses = []\n",
    "start = time.time()\n",
    "for i in range(epochs):\n",
    "    i+=1\n",
    "    y_pred = gpumodel.forward(X_train)\n",
    "    loss = criterion(y_pred, y_train)\n",
    "    losses.append(loss)\n",
    "    \n",
    "    # a neat trick to save screen space:\n",
    "    if i%10 == 1:\n",
    "        print(f'epoch: {i:2}  loss: {loss.item():10.8f}')\n",
    "\n",
    "    optimizer.zero_grad()\n",
    "    loss.backward()\n",
    "    optimizer.step()\n",
    "    \n",
    "print(f'TOTAL TRAINING TIME: {time.time()-start}')"
   ]
  },
  {
   "cell_type": "code",
   "execution_count": 13,
   "metadata": {},
   "outputs": [
    {
     "name": "stdout",
     "output_type": "stream",
     "text": [
      " 1. tensor([-2.1252,  4.8064, -0.8628], device='cuda:0')   1\n",
      " 2. tensor([-1.7985,  5.3098, -1.5449], device='cuda:0')   1\n",
      " 3. tensor([  6.3542,   0.8438, -10.0541], device='cuda:0')   0\n",
      " 4. tensor([-3.9123,  4.5958,  1.1693], device='cuda:0')   1\n",
      " 5. tensor([-7.4713,  3.2021,  5.7853], device='cuda:0')   2\n",
      " 6. tensor([-10.4976,   1.6459,   9.6297], device='cuda:0')   2\n",
      " 7. tensor([  6.3201,   0.9917, -10.1532], device='cuda:0')   0\n",
      " 8. tensor([  7.0468,   0.7059, -10.9137], device='cuda:0')   0\n",
      " 9. tensor([-7.2061,  3.3477,  5.3565], device='cuda:0')   2\n",
      "10. tensor([-9.3960,  2.5759,  8.1033], device='cuda:0')   2\n",
      "11. tensor([-9.8808,  2.3475,  8.7141], device='cuda:0')   2\n",
      "12. tensor([ 6.2748,  0.6655, -9.7613], device='cuda:0')   0\n",
      "13. tensor([-9.3142,  2.1880,  8.1947], device='cuda:0')   2\n",
      "14. tensor([-3.7803,  4.5050,  1.0752], device='cuda:0')   1\n",
      "15. tensor([-7.8657,  3.0117,  6.2303], device='cuda:0')   2\n",
      "16. tensor([-1.8867,  5.1572, -1.3345], device='cuda:0')   1\n",
      "17. tensor([-5.7006,  3.5030,  3.6696], device='cuda:0')   2\n",
      "18. tensor([  7.1789,   0.7369, -11.1350], device='cuda:0')   0\n",
      "19. tensor([-3.2944,  4.7931,  0.3475], device='cuda:0')   1\n",
      "20. tensor([-7.7665,  3.7629,  5.7095], device='cuda:0')   2\n",
      "21. tensor([  6.6499,   0.7889, -10.4252], device='cuda:0')   0\n",
      "22. tensor([  7.4357,   0.8918, -11.6600], device='cuda:0')   0\n",
      "23. tensor([-9.7584,  2.1744,  8.6654], device='cuda:0')   2\n",
      "24. tensor([  6.5770,   0.7421, -10.2733], device='cuda:0')   0\n",
      "25. tensor([-7.4144,  2.8719,  5.9445], device='cuda:0')   2\n",
      "26. tensor([-6.1551,  3.4031,  4.2300], device='cuda:0')   2\n",
      "27. tensor([-3.1634,  4.7460,  0.2703], device='cuda:0')   1\n",
      "28. tensor([-1.5446,  4.9031, -1.5557], device='cuda:0')   1\n",
      "29. tensor([-7.4335,  3.1101,  5.7350], device='cuda:0')   2\n",
      "30. tensor([-6.7037,  3.1187,  4.9595], device='cuda:0')   2\n",
      "\n",
      "30 out of 30 = 100.00% correct\n"
     ]
    }
   ],
   "source": [
    "# evaluate the model\n",
    "correct = 0\n",
    "\n",
    "with torch.no_grad():\n",
    "    for i,data in enumerate(X_test):\n",
    "        y_val = gpumodel.forward(data)\n",
    "        print(f'{i+1:2}. {str(y_val):38}   {y_test[i]}')\n",
    "        if y_val.argmax().item() == y_test[i]:\n",
    "            correct += 1\n",
    "\n",
    "print(f'\\n{correct} out of {len(y_test)} = {100*correct/len(y_test):.2f}% correct')"
   ]
  }
 ],
 "metadata": {
  "kernelspec": {
   "display_name": "cudaenv",
   "language": "python",
   "name": "python3"
  },
  "language_info": {
   "codemirror_mode": {
    "name": "ipython",
    "version": 3
   },
   "file_extension": ".py",
   "mimetype": "text/x-python",
   "name": "python",
   "nbconvert_exporter": "python",
   "pygments_lexer": "ipython3",
   "version": "3.12.3"
  }
 },
 "nbformat": 4,
 "nbformat_minor": 2
}
